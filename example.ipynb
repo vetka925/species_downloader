{
 "cells": [
  {
   "cell_type": "markdown",
   "id": "71857ba4",
   "metadata": {},
   "source": [
    "# Example using SpeciesDownloader"
   ]
  },
  {
   "cell_type": "code",
   "execution_count": 6,
   "id": "aa4acfcc",
   "metadata": {},
   "outputs": [],
   "source": [
    "# To run this notebook:\n",
    "# 1) install python3, git\n",
    "# 2) run \n",
    "#    a) Windows: cmd\n",
    "#    b) MacOS/Linux: terminal\n",
    "# 3) git clone\n",
    "# 4) cd species_img_downloader\n",
    "# 5)\n",
    "#    a)Windows: python -m venv venv\n",
    "#    b)MacOS/Linux: python3 -m venv venv\n",
    "# 6) pip install -r requirements.txt\n",
    "# 7) jupyter notebook"
   ]
  },
  {
   "cell_type": "markdown",
   "id": "ec68e61b",
   "metadata": {},
   "source": [
    "### In example, we want prepare dataset for training bird species classifier that will be used in cameras in Saint-Petersburg, Russia. So we need:\n",
    "* Prepare a list of names of bird species that live in St. Petersburg.\n",
    "* Сollect enough bird photos for each species. "
   ]
  },
  {
   "cell_type": "markdown",
   "id": "714f98d6",
   "metadata": {},
   "source": [
    "### Prepare species list."
   ]
  },
  {
   "cell_type": "markdown",
   "id": "a1676f05",
   "metadata": {},
   "source": [
    "It will be diffucult to collect all species in Saint-Petersburg manually, so we wll scrap list from avibase.bsc-eoc.org"
   ]
  },
  {
   "cell_type": "code",
   "execution_count": 1,
   "id": "0f59d42e",
   "metadata": {},
   "outputs": [],
   "source": [
    "from bs4 import BeautifulSoup\n",
    "import requests\n",
    "\n",
    "req = requests.get('https://avibase.bsc-eoc.org/checklist.jsp?region=RUnwsp&list=howardmoore')\n",
    "soup = BeautifulSoup(req.content, 'html.parser')\n",
    "species_list = []\n",
    "for row in soup.findAll('i'):\n",
    "    text = row.text\n",
    "    if text:\n",
    "        species_list.append(text)"
   ]
  },
  {
   "cell_type": "code",
   "execution_count": 5,
   "id": "7daf44bb",
   "metadata": {},
   "outputs": [
    {
     "name": "stdout",
     "output_type": "stream",
     "text": [
      "Total species: 257\n",
      "First 10: ['Oxyura leucocephala', 'Cygnus olor', 'Cygnus columbianus', 'Cygnus cygnus', 'Branta bernicla', 'Branta leucopsis', 'Branta canadensis', 'Anser anser', 'Anser fabalis', 'Anser albifrons']\n"
     ]
    }
   ],
   "source": [
    "print(f'Total species: {len(species_list)}')\n",
    "print(f'First 10: {species_list[:10]}')"
   ]
  },
  {
   "cell_type": "markdown",
   "id": "87f3e723",
   "metadata": {},
   "source": [
    "Now we have the list of species names. Let's download photos per species (we take only 2 species and 10 photos per species for example, but we can take 100, 1000 and even more photos)."
   ]
  },
  {
   "cell_type": "code",
   "execution_count": 7,
   "id": "a0fdc1f2",
   "metadata": {},
   "outputs": [
    {
     "name": "stderr",
     "output_type": "stream",
     "text": [
      "2021-08-18 16:20:55,965 INFO Start getting species images urls from INAT API\n",
      "  5%|██████████▍                                                                                                                                                                                                     | 1/20 [00:06<02:11,  6.94s/it]2021-08-18 16:21:02,924 INFO 11 URLS found for Oxyura leucocephala\n",
      " 60%|████████████████████████████████████████████████████████████████████████████████████████████████████████████████████████████▏                                                                                  | 12/20 [00:11<00:06,  1.21it/s]2021-08-18 16:21:07,752 INFO 11 URLS found for Cygnus olor\n",
      "22it [00:11,  1.87it/s]                                                                                                                                                                                                                             \n",
      "2021-08-18 16:21:07,753 INFO Start preparing save paths\n",
      "2021-08-18 16:21:07,754 INFO Start downloading\n",
      "100%|███████████████████████████████████████████████████████████████████████████████████████████████████████████████████████████████████████████████████████████████████████████████████████████████████████████████| 22/22 [00:02<00:00,  8.68it/s]\n"
     ]
    }
   ],
   "source": [
    "from species_img_downloader import SpeciesDownloader\n",
    "\n",
    "download_path = './data/'\n",
    "img_count = 10\n",
    "downloader = SpeciesDownloader(species_names=species_list[:2])\n",
    "downloader.download(save_dir='./data', limit_img_per_species=img_count)"
   ]
  }
 ],
 "metadata": {
  "kernelspec": {
   "display_name": "Python 3 (ipykernel)",
   "language": "python",
   "name": "python3"
  },
  "language_info": {
   "codemirror_mode": {
    "name": "ipython",
    "version": 3
   },
   "file_extension": ".py",
   "mimetype": "text/x-python",
   "name": "python",
   "nbconvert_exporter": "python",
   "pygments_lexer": "ipython3",
   "version": "3.9.2"
  }
 },
 "nbformat": 4,
 "nbformat_minor": 5
}
